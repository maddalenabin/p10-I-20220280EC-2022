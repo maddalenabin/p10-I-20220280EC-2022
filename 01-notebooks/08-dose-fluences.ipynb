{
 "cells": [
  {
   "cell_type": "code",
   "execution_count": 1,
   "id": "a07db40e",
   "metadata": {},
   "outputs": [
    {
     "name": "stdout",
     "output_type": "stream",
     "text": [
      "Using matplotlib backend: agg\n",
      "Populating the interactive namespace from numpy and matplotlib\n"
     ]
    }
   ],
   "source": [
    "%matplotlib inline\n",
    "%pylab\n",
    "%load_ext autoreload\n",
    "%autoreload 2\n",
    "%matplotlib notebook\n",
    "%config InlineBackend.figure_format='retina'\n",
    "\n",
    "import numpy as np\n",
    "import os\n",
    "from matplotlib import pyplot as plt\n",
    "import seaborn as sns\n",
    "from matplotlib.colors import LogNorm"
   ]
  },
  {
   "cell_type": "markdown",
   "id": "93198186",
   "metadata": {},
   "source": [
    "## Harmonic mean"
   ]
  },
  {
   "cell_type": "code",
   "execution_count": 2,
   "id": "73a22aca",
   "metadata": {},
   "outputs": [],
   "source": [
    "import statistics"
   ]
  },
  {
   "cell_type": "code",
   "execution_count": 3,
   "id": "4d8029d0",
   "metadata": {},
   "outputs": [
    {
     "name": "stdout",
     "output_type": "stream",
     "text": [
      "1146.9535577332765\n"
     ]
    }
   ],
   "source": [
    "print(statistics.harmonic_mean([1.35e3, 0.997e3])) # lyso, water"
   ]
  },
  {
   "cell_type": "markdown",
   "id": "485e8b41",
   "metadata": {},
   "source": [
    "**Absorbance**: from lys in gly sol"
   ]
  },
  {
   "cell_type": "code",
   "execution_count": 4,
   "id": "6f583c14",
   "metadata": {},
   "outputs": [
    {
     "data": {
      "text/plain": [
       "0.1366906474820144"
      ]
     },
     "execution_count": 4,
     "metadata": {},
     "output_type": "execute_result"
    }
   ],
   "source": [
    "T_cap = abs(2780-2400) / 2780\n",
    "T_cap"
   ]
  },
  {
   "cell_type": "code",
   "execution_count": 5,
   "id": "e365917d",
   "metadata": {},
   "outputs": [
    {
     "data": {
      "text/plain": [
       "0.30539480106643135"
      ]
     },
     "execution_count": 5,
     "metadata": {},
     "output_type": "execute_result"
    }
   ],
   "source": [
    "T_test = abs(2780-1500) / 2780\n",
    "# print(T_test)\n",
    "# A_test = abs(2400-1500) / 2400\n",
    "# A = 2 - np.log10(T_test*100)\n",
    "A = 2 - np.log10(0.495*100)\n",
    "# A = 2 - np.log10(0.673*100)\n",
    "A"
   ]
  },
  {
   "cell_type": "markdown",
   "id": "998a3753",
   "metadata": {},
   "source": [
    "# Get dscan (100 um2 beam size)"
   ]
  },
  {
   "cell_type": "code",
   "execution_count": 6,
   "id": "764e5b37",
   "metadata": {},
   "outputs": [
    {
     "name": "stdout",
     "output_type": "stream",
     "text": [
      "elog\t\t\tHydLys_0p25_1_00001.fio  img_1_.npy\r\n",
      "fit_params_h25_LLT.npz\timg_1000.npy\t\t img_avg_blank.npy\r\n",
      "fit_params_h25_old.npz\timg_100_blank.npy\t img_avg.npy\r\n",
      "fit_pars_Temps.pkl\timg_100.npy\t\t waxs_temps.npz\r\n"
     ]
    }
   ],
   "source": [
    "!ls ../02-sources"
   ]
  },
  {
   "cell_type": "code",
   "execution_count": 7,
   "id": "73e701b2",
   "metadata": {
    "scrolled": true
   },
   "outputs": [],
   "source": [
    "#!head -n 164 ../02-sources/HydLys_0p25_1_00001.fio  | tail -93"
   ]
  },
  {
   "cell_type": "code",
   "execution_count": 8,
   "id": "5a10bcbd",
   "metadata": {
    "scrolled": true
   },
   "outputs": [],
   "source": [
    "#!cat -n ../02-sources/HydLys_0p25_1_00001.fio "
   ]
  },
  {
   "cell_type": "markdown",
   "id": "1a78b15f",
   "metadata": {},
   "source": [
    "### Protein volume fraction"
   ]
  },
  {
   "cell_type": "code",
   "execution_count": 9,
   "id": "3c6ae5b3",
   "metadata": {},
   "outputs": [
    {
     "data": {
      "text/plain": [
       "0.7250909090909091"
      ]
     },
     "execution_count": 9,
     "metadata": {},
     "output_type": "execute_result"
    }
   ],
   "source": [
    "h = 0.28 # hydration level\n",
    "rhow = 0.997e3 # water density\n",
    "rhop = 1.35e3 # lysozyme density\n",
    "\n",
    "# volume fraction\n",
    "Vf = (rhow/rhop/h) / (1+ rhow/rhop/h)\n",
    "Vf"
   ]
  },
  {
   "cell_type": "markdown",
   "id": "08d7e9af",
   "metadata": {},
   "source": [
    "## Compute dose"
   ]
  },
  {
   "cell_type": "code",
   "execution_count": 34,
   "id": "63a90731",
   "metadata": {},
   "outputs": [
    {
     "name": "stdout",
     "output_type": "stream",
     "text": [
      "density:  1254.69\n",
      "no phi: 1583.24\n",
      "yes phi: 1074.17\n"
     ]
    }
   ],
   "source": [
    "flux = 6e9 # photons/sec\n",
    "# A = 0.85 # absorption\n",
    "# A = 0.54 # absorption what mario used\n",
    "A = 0.31 # from 2-log(transm=0.495)\n",
    "# Ec = 12.4e3 * 1.602e-19  # J Photon energy \n",
    "Ec = 9e3 * 1.602e-19  # J Photon energy \n",
    "rho_p = 1.35e3 # kg / m3 sample mass density\n",
    "rho = statistics.harmonic_mean([1.35e3, 0.997e3])\n",
    "phi = 0.73\n",
    "rho_w = np.average([1.35e3, 0.997e3], weights=[phi, 1-phi])\n",
    "print(\"density: \", rho_w)\n",
    "# phi = 0.678 # volume fraction\n",
    "\n",
    "te  = 1 # s exposure time\n",
    "z = 30e-6 # m\n",
    "ds = 1.5e-3 # m sample thickness\n",
    "\n",
    "dose_christian = flux * Ec * A / (z**2 * ds * rho_w) * te # this\n",
    "# dose_christian2 = flux * Ec * A2 / (z**2 * ds * rho) * te\n",
    "dose_phi = flux * Ec * A * phi / (z**2 * ds * rho_p) * te\n",
    "\n",
    "print(\"no phi: %.2f\" %dose_christian) # this used !!\n",
    "print(\"yes phi: %.2f\" %dose_phi)\n",
    "# print(\"no phi 2: %.2f\" %dose_christian2)"
   ]
  },
  {
   "cell_type": "code",
   "execution_count": 35,
   "id": "b75a187f",
   "metadata": {},
   "outputs": [
    {
     "name": "stdout",
     "output_type": "stream",
     "text": [
      "3768.92\n"
     ]
    }
   ],
   "source": [
    "flux = 6e9 # photons/sec\n",
    "A = 0.85 # absorption\n",
    "Ec = 12.4e3 * 1.602e-19  # J Photon energy \n",
    "rho = 1.35e3 # kg / m3 sample mass density \n",
    "phi = 0.678 #0.8 # volume fraction\n",
    "te  = 1 # s exposure time\n",
    "z = 30e-6 # m\n",
    "ds = 1.5e-3 # m sample thickness\n",
    "\n",
    "dose = flux * Ec * A * phi / (z**2 * ds * rho) * te\n",
    "print(\"%.2f\" %dose)"
   ]
  },
  {
   "cell_type": "markdown",
   "id": "9e2a6b9a",
   "metadata": {},
   "source": [
    "# flux and fluences"
   ]
  },
  {
   "cell_type": "markdown",
   "id": "c4d7f78c",
   "metadata": {},
   "source": [
    "**Beamtime 1 (2021)**"
   ]
  },
  {
   "cell_type": "code",
   "execution_count": 37,
   "id": "1d7ab373",
   "metadata": {},
   "outputs": [
    {
     "data": {
      "text/plain": [
       "400"
      ]
     },
     "execution_count": 37,
     "metadata": {},
     "output_type": "execute_result"
    }
   ],
   "source": [
    "25*16"
   ]
  },
  {
   "cell_type": "code",
   "execution_count": 45,
   "id": "aa0cef74",
   "metadata": {},
   "outputs": [],
   "source": [
    "flux1 = 4e9 \n",
    "beam1 = 30*30\n",
    "Tr1 = [1, 0.75, 0.55, 0.20, 0.09] # 0,3,6,16,24"
   ]
  },
  {
   "cell_type": "code",
   "execution_count": 46,
   "id": "6bc9bc30",
   "metadata": {},
   "outputs": [
    {
     "name": "stdout",
     "output_type": "stream",
     "text": [
      "Flux (ph/s) \tFluence(ph/s/um2) \tTransm\n",
      "4.0e+09 \t4.4e+06 \t\t1.00\n",
      "3.0e+09 \t3.3e+06 \t\t0.75\n",
      "2.2e+09 \t2.4e+06 \t\t0.55\n",
      "8.0e+08 \t8.9e+05 \t\t0.20\n",
      "3.6e+08 \t4.0e+05 \t\t0.09\n"
     ]
    }
   ],
   "source": [
    "print(\"Flux (ph/s) \\tFluence(ph/s/um2) \\tTransm\")\n",
    "for tr in Tr1:\n",
    "    fl = flux1 * tr / beam1\n",
    "    print(f\"{flux1*tr:.1e} \\t{fl:.1e} \\t\\t{tr:.2f}\")"
   ]
  },
  {
   "cell_type": "markdown",
   "id": "eca78624",
   "metadata": {},
   "source": [
    "**Beamtime 2 (2022)**"
   ]
  },
  {
   "cell_type": "markdown",
   "id": "ad163504",
   "metadata": {},
   "source": [
    "0,3,6,9, used 6 for temps"
   ]
  },
  {
   "cell_type": "code",
   "execution_count": 47,
   "id": "bb8f9d31",
   "metadata": {},
   "outputs": [],
   "source": [
    "flux2 = 6e9\n",
    "beam2 = 30*30\n",
    "Tr2 = [1, 0.45, 0.22, 0.1] # 0,3,6,9"
   ]
  },
  {
   "cell_type": "code",
   "execution_count": 48,
   "id": "c77af95e",
   "metadata": {},
   "outputs": [
    {
     "name": "stdout",
     "output_type": "stream",
     "text": [
      "Flux (ph/s) \tFluence(ph/s/um2) \tTransm\n",
      "6.0e+09 \t6.7e+06 \t\t1.00\n",
      "2.7e+09 \t3.0e+06 \t\t0.45\n",
      "1.3e+09 \t1.5e+06 \t\t0.22\n",
      "6.0e+08 \t6.7e+05 \t\t0.10\n"
     ]
    }
   ],
   "source": [
    "print(\"Flux (ph/s) \\tFluence(ph/s/um2) \\tTransm\")\n",
    "for tr in Tr2:\n",
    "    fl = flux2 * tr / beam2\n",
    "    print(f\"{flux2*tr:.1e} \\t{fl:.1e} \\t\\t{tr:.2f}\")"
   ]
  },
  {
   "cell_type": "markdown",
   "id": "038885ac",
   "metadata": {},
   "source": [
    "# boh"
   ]
  },
  {
   "cell_type": "code",
   "execution_count": 12,
   "id": "65844146",
   "metadata": {},
   "outputs": [
    {
     "ename": "FileNotFoundError",
     "evalue": "[Errno 2] No such file or directory: '../05-source/a_xtime.npy'",
     "output_type": "error",
     "traceback": [
      "\u001b[0;31m---------------------------------------------------------------------------\u001b[0m",
      "\u001b[0;31mFileNotFoundError\u001b[0m                         Traceback (most recent call last)",
      "\u001b[0;32m/tmp/ipykernel_236793/1092456130.py\u001b[0m in \u001b[0;36m<module>\u001b[0;34m\u001b[0m\n\u001b[0;32m----> 1\u001b[0;31m \u001b[0mtime\u001b[0m \u001b[0;34m=\u001b[0m \u001b[0mnp\u001b[0m\u001b[0;34m.\u001b[0m\u001b[0mload\u001b[0m\u001b[0;34m(\u001b[0m\u001b[0;34m'../05-source/a_xtime.npy'\u001b[0m\u001b[0;34m)\u001b[0m\u001b[0;34m\u001b[0m\u001b[0;34m\u001b[0m\u001b[0m\n\u001b[0m\u001b[1;32m      2\u001b[0m \u001b[0mtime2\u001b[0m \u001b[0;34m=\u001b[0m \u001b[0mnp\u001b[0m\u001b[0;34m.\u001b[0m\u001b[0mload\u001b[0m\u001b[0;34m(\u001b[0m\u001b[0;34m'../05-source/a_xtime_long.npy'\u001b[0m\u001b[0;34m)\u001b[0m\u001b[0;34m\u001b[0m\u001b[0;34m\u001b[0m\u001b[0m\n\u001b[1;32m      3\u001b[0m \u001b[0;31m#time = np.arange(0,1000,0.5)\u001b[0m\u001b[0;34m\u001b[0m\u001b[0;34m\u001b[0m\u001b[0;34m\u001b[0m\u001b[0m\n\u001b[1;32m      4\u001b[0m \u001b[0mdoses\u001b[0m \u001b[0;34m=\u001b[0m \u001b[0mdose\u001b[0m \u001b[0;34m*\u001b[0m \u001b[0mtime\u001b[0m\u001b[0;34m\u001b[0m\u001b[0;34m\u001b[0m\u001b[0m\n\u001b[1;32m      5\u001b[0m \u001b[0mdoses2\u001b[0m \u001b[0;34m=\u001b[0m \u001b[0mdose\u001b[0m \u001b[0;34m*\u001b[0m \u001b[0mtime2\u001b[0m\u001b[0;34m\u001b[0m\u001b[0;34m\u001b[0m\u001b[0m\n",
      "\u001b[0;32m/software/anaconda3/2021.05/lib/python3.8/site-packages/numpy/lib/npyio.py\u001b[0m in \u001b[0;36mload\u001b[0;34m(file, mmap_mode, allow_pickle, fix_imports, encoding)\u001b[0m\n\u001b[1;32m    415\u001b[0m             \u001b[0mown_fid\u001b[0m \u001b[0;34m=\u001b[0m \u001b[0;32mFalse\u001b[0m\u001b[0;34m\u001b[0m\u001b[0;34m\u001b[0m\u001b[0m\n\u001b[1;32m    416\u001b[0m         \u001b[0;32melse\u001b[0m\u001b[0;34m:\u001b[0m\u001b[0;34m\u001b[0m\u001b[0;34m\u001b[0m\u001b[0m\n\u001b[0;32m--> 417\u001b[0;31m             \u001b[0mfid\u001b[0m \u001b[0;34m=\u001b[0m \u001b[0mstack\u001b[0m\u001b[0;34m.\u001b[0m\u001b[0menter_context\u001b[0m\u001b[0;34m(\u001b[0m\u001b[0mopen\u001b[0m\u001b[0;34m(\u001b[0m\u001b[0mos_fspath\u001b[0m\u001b[0;34m(\u001b[0m\u001b[0mfile\u001b[0m\u001b[0;34m)\u001b[0m\u001b[0;34m,\u001b[0m \u001b[0;34m\"rb\"\u001b[0m\u001b[0;34m)\u001b[0m\u001b[0;34m)\u001b[0m\u001b[0;34m\u001b[0m\u001b[0;34m\u001b[0m\u001b[0m\n\u001b[0m\u001b[1;32m    418\u001b[0m             \u001b[0mown_fid\u001b[0m \u001b[0;34m=\u001b[0m \u001b[0;32mTrue\u001b[0m\u001b[0;34m\u001b[0m\u001b[0;34m\u001b[0m\u001b[0m\n\u001b[1;32m    419\u001b[0m \u001b[0;34m\u001b[0m\u001b[0m\n",
      "\u001b[0;31mFileNotFoundError\u001b[0m: [Errno 2] No such file or directory: '../05-source/a_xtime.npy'"
     ]
    }
   ],
   "source": [
    "time = np.load('../05-source/a_xtime.npy')\n",
    "time2 = np.load('../05-source/a_xtime_long.npy')\n",
    "#time = np.arange(0,1000,0.5)\n",
    "doses = dose * time\n",
    "doses2 = dose * time2"
   ]
  },
  {
   "cell_type": "code",
   "execution_count": null,
   "id": "08d7b7cc",
   "metadata": {},
   "outputs": [],
   "source": [
    "time2[-5:]"
   ]
  },
  {
   "cell_type": "code",
   "execution_count": null,
   "id": "c0edf4b2",
   "metadata": {},
   "outputs": [],
   "source": [
    "plt.figure(figsize=(5,4))\n",
    "tr = [1, 0.74, 0.55, 0.2, 0.09]\n",
    "col = plt.cm.hot(np.linspace(0,1,len(tr)+2))\n",
    "+1\n",
    "for i in range(len(tr)-1):\n",
    "    plt.plot(time, doses*1e-3*tr[i], c=col[i], label=f'{tr[i]}')\n",
    "d = doses2*1e-3*tr[-1]\n",
    "plt.plot(time2, doses2*1e-3*tr[-1], c=col[i+1], label=f'{tr[-1]}')\n",
    "plt.axhline(y=d[-1], c='gray', lw=1, ls='--')\n",
    "\n",
    "plt.legend(frameon=False, title='Attenuation')\n",
    "plt.title(f'Dose rate {dose*1e-3:.1f} kGy/s')\n",
    "plt.xlabel('time (s)', fontsize=16)\n",
    "plt.ylabel('Dose (kGy)', fontsize=16)\n",
    "#plt.yscale('log')\n",
    "#plt.xscale('log')\n",
    "plt.tight_layout()\n",
    "#plt.savefig('../06-paper-plots/dose-vs-time.png', dpi=300)\n",
    "plt.show()"
   ]
  },
  {
   "cell_type": "code",
   "execution_count": null,
   "id": "dbc9f64c",
   "metadata": {},
   "outputs": [],
   "source": [
    "np.shape(doses)"
   ]
  },
  {
   "cell_type": "code",
   "execution_count": null,
   "id": "2c491eda",
   "metadata": {},
   "outputs": [],
   "source": [
    "plt.figure(figsize=(5,4))\n",
    "tr = [1, 0.74, 0.55, 0.2, 0.09]\n",
    "#ttime = [1e3, 1e3, 1e3, 1e3, 2e3]\n",
    "ttime = [1e3, 1e3, 1e3, 1e3, 1e3]\n",
    "col = plt.cm.viridis(np.linspace(0,1,len(tr)))\n",
    "\n",
    "for i in range(len(tr)):\n",
    "    x = tr[i]\n",
    "    y = dose*1e-6*tr[i]*ttime[i]\n",
    "    plt.plot(x, y, c='k', marker='o',)\n",
    "    print(f'{x}\\t{y:.2f} MGy')\n",
    "\n",
    "plt.plot(tr[-1], dose*1e-6*tr[i]*2e3, marker='x',c='k')\n",
    "print(f'{tr[-1]}\\t{dose*1e-6*tr[i]*2e3:.2f} MGy')\n",
    "\n",
    "plt.xlabel('Transmission', fontsize=16)\n",
    "plt.ylabel('Total absorbed dose (MGy)', fontsize=16)\n",
    "plt.tight_layout()\n",
    "#plt.savefig('../06-paper-plots/dose-vs-transm.png', dpi=300)\n",
    "plt.show()"
   ]
  },
  {
   "cell_type": "code",
   "execution_count": null,
   "id": "1ad8720a",
   "metadata": {},
   "outputs": [],
   "source": []
  }
 ],
 "metadata": {
  "kernelspec": {
   "display_name": "Python 3 (ipykernel)",
   "language": "python",
   "name": "python3"
  },
  "language_info": {
   "codemirror_mode": {
    "name": "ipython",
    "version": 3
   },
   "file_extension": ".py",
   "mimetype": "text/x-python",
   "name": "python",
   "nbconvert_exporter": "python",
   "pygments_lexer": "ipython3",
   "version": "3.8.12"
  }
 },
 "nbformat": 4,
 "nbformat_minor": 5
}
