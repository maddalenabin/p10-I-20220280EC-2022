{
 "cells": [
  {
   "cell_type": "code",
   "execution_count": 1,
   "id": "9d0f453b",
   "metadata": {},
   "outputs": [],
   "source": [
    "import numpy as np"
   ]
  },
  {
   "cell_type": "markdown",
   "id": "6b991c71",
   "metadata": {},
   "source": [
    "**h values**\n",
    "* Fluences: 0.345 $\\pm$ 0.001\n",
    "* Temps old: 0.245 $\\pm$ 0.001\n",
    "* Temps new: 0.248 $\\pm$ 0.002"
   ]
  },
  {
   "cell_type": "code",
   "execution_count": 5,
   "id": "b43513b6",
   "metadata": {},
   "outputs": [],
   "source": [
    "hs = np.array([0.345, 0.245, 0.248])\n",
    "# dhs = np.array([0.001, 0.001, 0.002])"
   ]
  },
  {
   "cell_type": "code",
   "execution_count": 6,
   "id": "c5eac4ef",
   "metadata": {},
   "outputs": [
    {
     "name": "stdout",
     "output_type": "stream",
     "text": [
      "h = 0.28 $\\pm$ 0.05\n"
     ]
    }
   ],
   "source": [
    "print(f\"h = {np.average(hs):.2f} $\\pm$ {np.std(hs):.2f}\")"
   ]
  },
  {
   "cell_type": "code",
   "execution_count": null,
   "id": "593c1420",
   "metadata": {},
   "outputs": [],
   "source": [
    "np.average(hs)"
   ]
  }
 ],
 "metadata": {
  "kernelspec": {
   "display_name": "p10-LLT",
   "language": "python",
   "name": "p10-llt"
  },
  "language_info": {
   "codemirror_mode": {
    "name": "ipython",
    "version": 3
   },
   "file_extension": ".py",
   "mimetype": "text/x-python",
   "name": "python",
   "nbconvert_exporter": "python",
   "pygments_lexer": "ipython3",
   "version": "3.8.12"
  }
 },
 "nbformat": 4,
 "nbformat_minor": 5
}
